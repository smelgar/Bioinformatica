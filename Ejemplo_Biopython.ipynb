{
  "nbformat": 4,
  "nbformat_minor": 0,
  "metadata": {
    "colab": {
      "name": "Ejemplo_Biopython.ipynb",
      "provenance": [],
      "authorship_tag": "ABX9TyMYTs8sPLwu6Bwb97XiDh4U",
      "include_colab_link": true
    },
    "kernelspec": {
      "name": "python3",
      "display_name": "Python 3"
    },
    "language_info": {
      "name": "python"
    }
  },
  "cells": [
    {
      "cell_type": "markdown",
      "metadata": {
        "id": "view-in-github",
        "colab_type": "text"
      },
      "source": [
        "<a href=\"https://colab.research.google.com/github/smelgar/Bioinformatica/blob/main/Ejemplo_Biopython.ipynb\" target=\"_parent\"><img src=\"https://colab.research.google.com/assets/colab-badge.svg\" alt=\"Open In Colab\"/></a>"
      ]
    },
    {
      "cell_type": "markdown",
      "source": [
        "Lo primero que hay que hacer es instalar Biopython.  Para ello se emplea lo siguiente."
      ],
      "metadata": {
        "id": "EVQx6Q0Nztm1"
      }
    },
    {
      "cell_type": "code",
      "execution_count": null,
      "metadata": {
        "id": "xCVr1GezlHj8",
        "outputId": "a1230014-ce1a-4e00-a07e-6096bd2782b4",
        "colab": {
          "base_uri": "https://localhost:8080/"
        }
      },
      "outputs": [
        {
          "output_type": "stream",
          "name": "stdout",
          "text": [
            "Collecting biopython\n",
            "  Downloading biopython-1.79-cp37-cp37m-manylinux_2_5_x86_64.manylinux1_x86_64.whl (2.3 MB)\n",
            "\u001b[K     |████████████████████████████████| 2.3 MB 5.2 MB/s \n",
            "\u001b[?25hRequirement already satisfied: numpy in /usr/local/lib/python3.7/dist-packages (from biopython) (1.19.5)\n",
            "Installing collected packages: biopython\n",
            "Successfully installed biopython-1.79\n"
          ]
        }
      ],
      "source": [
        "try:\n",
        "    import google.colab\n",
        "    # Running on Google Colab, so install Biopython first\n",
        "    !pip install biopython\n",
        "except ImportError:\n",
        "    pass"
      ]
    },
    {
      "cell_type": "markdown",
      "source": [
        "Una vez instalado Biopython, ya es posible importar las bibliotecas, como por ejemplo Seq."
      ],
      "metadata": {
        "id": "slhj2ruTz3Et"
      }
    },
    {
      "cell_type": "code",
      "source": [
        "from Bio.Seq import Seq\n",
        "x = Seq(\"ATGGCGGGAAAATGA\")\n",
        "x\n"
      ],
      "metadata": {
        "colab": {
          "base_uri": "https://localhost:8080/"
        },
        "id": "zAED7h7_zTPe",
        "outputId": "8ef407b6-4d9b-41a6-ebb0-279ecc6438ec"
      },
      "execution_count": null,
      "outputs": [
        {
          "output_type": "execute_result",
          "data": {
            "text/plain": [
              "Seq('ATGGCGGGAAAATGA')"
            ]
          },
          "metadata": {},
          "execution_count": 4
        }
      ]
    },
    {
      "cell_type": "markdown",
      "source": [
        "Para obtener el nucleótido que se localiza en una posición específica se puede determinar mediante lo siguiente.  Recuerde que el primer nucleótido tiene el índice cero.  Entonces extraemos del sexto al décimo nucleótidos."
      ],
      "metadata": {
        "id": "plP6XigW0F02"
      }
    },
    {
      "cell_type": "code",
      "source": [
        "x[5:10]"
      ],
      "metadata": {
        "colab": {
          "base_uri": "https://localhost:8080/"
        },
        "id": "KiJlYFnd0V-B",
        "outputId": "7c4732d9-136d-471f-81ae-4709e97af75d"
      },
      "execution_count": null,
      "outputs": [
        {
          "output_type": "execute_result",
          "data": {
            "text/plain": [
              "Seq('GGGAA')"
            ]
          },
          "metadata": {},
          "execution_count": 7
        }
      ]
    },
    {
      "cell_type": "markdown",
      "source": [
        "Si se desea del sexto al final se puede colocar de la siguiente manera:"
      ],
      "metadata": {
        "id": "4pRDXxWl1vMo"
      }
    },
    {
      "cell_type": "code",
      "source": [
        "x[5:]\n",
        "\n"
      ],
      "metadata": {
        "colab": {
          "base_uri": "https://localhost:8080/"
        },
        "id": "2xViy0PD04Ek",
        "outputId": "cc4a8130-8d79-46bb-c673-accd01fe7767"
      },
      "execution_count": null,
      "outputs": [
        {
          "output_type": "execute_result",
          "data": {
            "text/plain": [
              "Seq('GGGAAAATGA')"
            ]
          },
          "metadata": {},
          "execution_count": 11
        }
      ]
    }
  ]
}